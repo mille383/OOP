{
 "cells": [
  {
   "cell_type": "code",
   "execution_count": 4,
   "metadata": {},
   "outputs": [],
   "source": [
    "from IPython.display import clear_output as co\n",
    "\n",
    "class Cart:\n",
    "    def __init__(self, items):\n",
    "        self.items = []\n",
    "        self.total = 0.0\n",
    "\n",
    "    def addItem(self, name, price, qty):\n",
    "        total_line = price * qty\n",
    "        \n",
    "        self.items.append({\n",
    "            'item': name,\n",
    "            'price': price,\n",
    "            'qty': qty,\n",
    "            'total' : total_line\n",
    "        })\n",
    "    \n",
    "    def showItem(self):\n",
    "        \"\"\"Function prints the items and total in the cart\n",
    "            Input: cart list\"\"\"\n",
    "        if self.items:\n",
    "            g_total = 0\n",
    "            for dictionary in self.items:\n",
    "                print(f\"Item: {dictionary['item']}\\t Price: ${dictionary['price']:.2f}\\t Qty: {dictionary['qty']}\\t Total: ${dictionary['total']:.2f}\\n\")\n",
    "                g_total += dictionary['total']\n",
    "            print(\"========================================================\")\n",
    "            print(f\"Grand Total:\\t\\t\\t                ${g_total:.2f}\\n\")\n",
    "        else: print(\"Nothing in the cart yet!\\n\")\n",
    "        \n",
    "    def removeItem(self, item):\n",
    "        \"\"\"Delete the dictionary of specified item in cart list\"\"\"\n",
    "        for i in range(len(self.items)):\n",
    "            if self.items[i]['item'] == item:\n",
    "                del self.items[i]\n",
    "                return True\n",
    "        \n"
   ]
  },
  {
   "cell_type": "code",
   "execution_count": 5,
   "metadata": {},
   "outputs": [
    {
     "name": "stdout",
     "output_type": "stream",
     "text": [
      "Item: milk\t Price: $4.00\t Qty: 4\t Total: $16.00\n",
      "\n",
      "========================================================\n",
      "Grand Total:\t\t\t                $16.00\n",
      "\n"
     ]
    }
   ],
   "source": [
    "#initialize empty list\n",
    "items = []\n",
    "cart = Cart(items)\n",
    "\n",
    "#flag for while loop\n",
    "flag = False\n",
    "\n",
    "#loop while flag is false\n",
    "while not flag:\n",
    "    print(\"\"\"Type 'add' to add a new item\n",
    "    'remove' to remove an item\n",
    "    'show' to see cart\"\"\")\n",
    "    \n",
    "    ask1 = input(\"Or 'quit' to leave \").lower()\n",
    "    co()\n",
    "    if ask1 == 'quit':\n",
    "        cart.showItem()\n",
    "        flag = True\n",
    "        \n",
    "    elif ask1 == 'add':\n",
    "        item = input(\"Enter an item: \")\n",
    "        price = float(input(\"Enter the price (ea): \"))\n",
    "        qty = int(input(\"Enter the quantity: \"))\n",
    "#         price = float(price)\n",
    "        cart.addItem(item, price, qty)\n",
    "\n",
    "    elif ask1 == 'show':\n",
    "        print(cart.showItem())\n",
    "        \n",
    "    elif ask1 == 'remove':\n",
    "        cart.showItem()\n",
    "        removed = input(\"Which item would you like to remove? \")\n",
    "        \n",
    "        co()\n",
    "        \n",
    "        if cart.removeItem(removed):\n",
    "            print(f\"{removed} was removed from the cart. Here's your new list:\")\n",
    "            cart.showItem()\n",
    "        else:\n",
    "            print(\"Not a valid item\")"
   ]
  }
 ],
 "metadata": {
  "kernelspec": {
   "display_name": "Python 3",
   "language": "python",
   "name": "python3"
  },
  "language_info": {
   "codemirror_mode": {
    "name": "ipython",
    "version": 3
   },
   "file_extension": ".py",
   "mimetype": "text/x-python",
   "name": "python",
   "nbconvert_exporter": "python",
   "pygments_lexer": "ipython3",
   "version": "3.8.5"
  }
 },
 "nbformat": 4,
 "nbformat_minor": 4
}
